{
 "cells": [
  {
   "cell_type": "markdown",
   "metadata": {},
   "source": [
    "# Covarient Shift \n",
    "Something to test would be testing the degree and extend covariant shifts occurs through successive layers. In ```R2``` we were able to successfully keep the activations of each layer through an $N$ layered NN with: Mean 0, Std 1. \n",
    "\n",
    "Though there is one thing we did not account for: Variable Network Width. \n",
    "\n",
    "In practice we will have hidden layers with number of node as such: ```[40, 100, 30, 60, 100, c]```. In our experiment we had each layer have a fixed ```512``` neurons width. \n",
    "\n",
    "We will experiment different variations and test the mean and std for each layer output. \n",
    "\n",
    "# Feature Representation\n",
    "I want to study further what a ```w``` varient width NN means in terms of feature representation. \n",
    "\n",
    "We do know that earlier layers extract fundamental features with the latter features extracting more concrete feature of the initial dataset. \n",
    "\n",
    "What I would want to study is the effect of this exact feature representation and how it changes with both network width and depth. \n",
    "\n",
    "My idea is that if your initial input contains ```50``` features and your first hidden layer is composed of ```30``` neurons, then what is truly happening is some form of **dimensionality reduction** in that the NN is attempting to both extract and model that low-level extraction in much lower dimensions. \n",
    "\n",
    "This would in essence be a **non-linear** dimensionality reduction method. "
   ]
  },
  {
   "cell_type": "code",
   "execution_count": null,
   "metadata": {},
   "outputs": [],
   "source": []
  },
  {
   "cell_type": "code",
   "execution_count": null,
   "metadata": {},
   "outputs": [],
   "source": []
  },
  {
   "cell_type": "code",
   "execution_count": null,
   "metadata": {},
   "outputs": [],
   "source": []
  },
  {
   "cell_type": "code",
   "execution_count": null,
   "metadata": {},
   "outputs": [],
   "source": []
  },
  {
   "cell_type": "code",
   "execution_count": null,
   "metadata": {},
   "outputs": [],
   "source": []
  },
  {
   "cell_type": "code",
   "execution_count": null,
   "metadata": {},
   "outputs": [],
   "source": []
  },
  {
   "cell_type": "code",
   "execution_count": null,
   "metadata": {},
   "outputs": [],
   "source": []
  }
 ],
 "metadata": {
  "kernelspec": {
   "display_name": "Python 3",
   "language": "python",
   "name": "python3"
  },
  "language_info": {
   "name": ""
  }
 },
 "nbformat": 4,
 "nbformat_minor": 2
}
